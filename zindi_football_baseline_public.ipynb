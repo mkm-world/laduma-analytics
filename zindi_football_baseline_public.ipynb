{
  "cells": [
    {
      "cell_type": "markdown",
      "metadata": {
        "id": "view-in-github",
        "colab_type": "text"
      },
      "source": [
        "<a href=\"https://colab.research.google.com/github/mkm-world/laduma-analytics/blob/main/zindi_football_baseline_public.ipynb\" target=\"_parent\"><img src=\"https://colab.research.google.com/assets/colab-badge.svg\" alt=\"Open In Colab\"/></a>"
      ]
    },
    {
      "cell_type": "markdown",
      "metadata": {
        "id": "IqkjT4oTpVwE"
      },
      "source": [
        "#Zindi Weekendz: Laduma Analytics Football League Winners Prediction Challenge\n",
        "\n",
        "- **Can you predict the outcome of a football match based on historical data?**"
      ],
      "id": "IqkjT4oTpVwE"
    },
    {
      "cell_type": "markdown",
      "metadata": {
        "id": "S4SwkOLKpcsm"
      },
      "source": [
        "# Downloading all datasets directly from Zindi platform using url:"
      ],
      "id": "S4SwkOLKpcsm"
    },
    {
      "cell_type": "code",
      "execution_count": null,
      "metadata": {
        "id": "jMGB_TF3pdw4"
      },
      "outputs": [],
      "source": [
        "import requests, zipfile\n",
        "# The url and auth_value from the website\n",
        "myobj = {'auth_token': ''} # fill with your token\n",
        "data_list=['Test.csv','VariableDefinitions.csv','Train.csv','SampleSubmission.csv']\n",
        "target_dir=''\n",
        "base_path='https://api.zindi.africa/v1/competitions/laduma-analytics-football-league-winners-prediction-challenge/files/'\n",
        "def load_zindi_data(data_list,base_path,target_dir):\n",
        "  for data in data_list:\n",
        "      target_path=  target_dir +data\n",
        "      data_path=base_path+ data\n",
        "      x = requests.post(data_path, data = myobj,stream=True)\n",
        "      handle = open(target_path, \"wb\")\n",
        "      for chunk in x.iter_content(chunk_size=512):\n",
        "        if chunk:  # filter out keep-alive new chunks\n",
        "          handle.write(chunk)\n",
        "      handle.close()\n",
        "load_zindi_data(data_list,base_path,target_dir)"
      ],
      "id": "jMGB_TF3pdw4"
    },
    {
      "cell_type": "markdown",
      "metadata": {
        "id": "bdfbc4dd"
      },
      "source": [
        "#### Import Libraries"
      ],
      "id": "bdfbc4dd"
    },
    {
      "cell_type": "code",
      "execution_count": null,
      "metadata": {
        "id": "210ce524"
      },
      "outputs": [],
      "source": [
        "import pandas as pd\n",
        "import seaborn as sns\n",
        "import matplotlib.pyplot as plt\n",
        "import numpy as np\n",
        "import seaborn as sns\n",
        "from datetime import datetime as dt\n",
        "import itertools\n",
        "from tqdm import tqdm\n",
        "%matplotlib inline\n",
        "\n",
        "from sklearn.preprocessing import LabelEncoder\n",
        "from sklearn.ensemble import RandomForestClassifier\n",
        "from sklearn.datasets import make_classification\n",
        "from sklearn.preprocessing import StandardScaler\n",
        "pd.set_option('display.max_columns', None)\n",
        "import warnings\n",
        "warnings.filterwarnings('ignore')"
      ],
      "id": "210ce524"
    },
    {
      "cell_type": "markdown",
      "metadata": {
        "id": "0cjdIcdQrFAN"
      },
      "source": [
        "#Load Datasets:"
      ],
      "id": "0cjdIcdQrFAN"
    },
    {
      "cell_type": "code",
      "execution_count": null,
      "metadata": {
        "id": "6247095e"
      },
      "outputs": [],
      "source": [
        "train = pd.read_csv(\"Train.csv\",parse_dates=['Date'])\n",
        "test = pd.read_csv(\"Test.csv\",parse_dates=['Date'])"
      ],
      "id": "6247095e"
    },
    {
      "cell_type": "code",
      "source": [
        "def preprocess(train,test):\n",
        "  train['Train']=1\n",
        "  test['Train']=0\n",
        "  home_teams=train['Home Team'].unique()\n",
        "  all_data=pd.concat([train,test])\n",
        "  for team in home_teams:\n",
        "    all_data['home_'+team]=0\n",
        "    all_data.loc[all_data['Home Team']==team,'home_'+team]=1\n",
        "  away_teams=train['Away Team'].unique()\n",
        "  for team in away_teams:\n",
        "    all_data['away_'+team]=0\n",
        "    all_data.loc[all_data['Away Team']==team,'away_'+team]=1\n",
        "  train_cols = all_data.columns.difference(['Date', 'Season', 'Match_ID', 'Game_ID','Score','Train','Home Team','Away Team'])\n",
        "  all_data.fillna(all_data.mean(),inplace=True)\n",
        "  train = all_data[all_data[\"Train\"] == 1]\n",
        "  test = all_data[all_data[\"Train\"] == 0]\n",
        "  return train[train_cols],test[train_cols],train['Score'],test['Score']"
      ],
      "metadata": {
        "id": "S-rERS-VKgWg"
      },
      "id": "S-rERS-VKgWg",
      "execution_count": null,
      "outputs": []
    },
    {
      "cell_type": "code",
      "execution_count": null,
      "metadata": {
        "id": "892c51d1"
      },
      "outputs": [],
      "source": [
        "le=LabelEncoder()\n",
        "train[\"Score\"] = le.fit_transform(train[\"Score\"])\n",
        "score_mapping = dict(zip(le.classes_, range(len(le.classes_))))"
      ],
      "id": "892c51d1"
    },
    {
      "cell_type": "code",
      "source": [
        "train.sort_values(by=['Date'],inplace=True)"
      ],
      "metadata": {
        "id": "0r8vE04OO2Q0"
      },
      "id": "0r8vE04OO2Q0",
      "execution_count": null,
      "outputs": []
    },
    {
      "cell_type": "code",
      "execution_count": null,
      "metadata": {
        "id": "3NnU3CuEhnQl"
      },
      "outputs": [],
      "source": [
        "from sklearn.model_selection import train_test_split\n",
        "trai,val= train_test_split(train, test_size=0.2,shuffle=False)"
      ],
      "id": "3NnU3CuEhnQl"
    },
    {
      "cell_type": "code",
      "source": [
        "pro_train_X,pro_test_X,pro_train_y,pro_test_y=preprocess(trai,val)"
      ],
      "metadata": {
        "id": "48k4Vb4CPOHb"
      },
      "id": "48k4Vb4CPOHb",
      "execution_count": null,
      "outputs": []
    },
    {
      "cell_type": "code",
      "source": [
        "X,test_data,y,_=preprocess(train,test)"
      ],
      "metadata": {
        "id": "iS9dvToXJh9T"
      },
      "id": "iS9dvToXJh9T",
      "execution_count": null,
      "outputs": []
    },
    {
      "cell_type": "code",
      "execution_count": null,
      "metadata": {
        "id": "CVgh5t-Ah3-q"
      },
      "outputs": [],
      "source": [
        "#importing models\n",
        "import lightgbm as lgb \n",
        "from sklearn.ensemble import RandomForestClassifier\n",
        "from xgboost import XGBClassifier\n",
        "from sklearn.linear_model import LogisticRegression\n",
        "from sklearn.metrics import accuracy_score,log_loss"
      ],
      "id": "CVgh5t-Ah3-q"
    },
    {
      "cell_type": "code",
      "execution_count": null,
      "metadata": {
        "colab": {
          "base_uri": "https://localhost:8080/"
        },
        "id": "pmyK7n9nkaGm",
        "outputId": "3be9e546-949d-484b-98fb-0093979071a5"
      },
      "outputs": [
        {
          "output_type": "stream",
          "name": "stdout",
          "text": [
            "1.0714671756358163\n"
          ]
        }
      ],
      "source": [
        "lr=LogisticRegression(C=0.1,max_iter=1000)\n",
        "lr.fit(pro_train_X,pro_train_y)\n",
        "#Predictiing on Test Set\n",
        "y_pred = lr.predict_proba(pro_test_X)\n",
        "print(log_loss(pro_test_y,y_pred))"
      ],
      "id": "pmyK7n9nkaGm"
    },
    {
      "cell_type": "code",
      "execution_count": null,
      "metadata": {
        "colab": {
          "base_uri": "https://localhost:8080/"
        },
        "id": "4sZCA4EjiB1I",
        "outputId": "5d473987-650e-405a-f619-f67f77e1396f"
      },
      "outputs": [
        {
          "output_type": "stream",
          "name": "stdout",
          "text": [
            "1.0747329903748428\n"
          ]
        }
      ],
      "source": [
        "xgb=XGBClassifier(n_estimators=50 , max_depth=4, learning_rate=0.08,colsample_bytree=0.2,\n",
        "                  random_state=12,subsample=0.8)\n",
        "xgb.fit(pro_train_X,pro_train_y)\n",
        "#Predictiing on Test Set\n",
        "y_pred = xgb.predict_proba(pro_test_X)\n",
        "print(log_loss(pro_test_y,y_pred))"
      ],
      "id": "4sZCA4EjiB1I"
    },
    {
      "cell_type": "code",
      "execution_count": null,
      "metadata": {
        "id": "b20f8f17"
      },
      "outputs": [],
      "source": [
        "clf = RandomForestClassifier(n_estimators=120 , random_state=12,max_depth=2,max_features=0.8)\n",
        "clf.fit(pro_train_X,pro_train_y)\n",
        "#Predictiing on Test Set\n",
        "y_pred = clf.predict_proba(pro_test_X)\n",
        "print(log_loss(pro_test_y,y_pred))"
      ],
      "id": "b20f8f17"
    },
    {
      "cell_type": "code",
      "execution_count": null,
      "metadata": {
        "id": "afa317fd"
      },
      "outputs": [],
      "source": [
        "lr.fit(X,y)\n",
        "test_predictions  = lr.predict_proba(test_data)"
      ],
      "id": "afa317fd"
    },
    {
      "cell_type": "code",
      "execution_count": null,
      "metadata": {
        "id": "7a035863"
      },
      "outputs": [],
      "source": [
        "Test = test.copy()\n",
        "cols=le.inverse_transform([*range(3)])\n",
        "Test[cols]= test_predictions"
      ],
      "id": "7a035863"
    },
    {
      "cell_type": "code",
      "execution_count": null,
      "metadata": {
        "id": "225ef7d5"
      },
      "outputs": [],
      "source": [
        "submit = Test[[\"Game_ID\",'Away win', 'Draw', 'Home Win']]\n",
        "submit.drop_duplicates(subset = [\"Game_ID\"], inplace=True)\n",
        "submit = submit.reset_index(drop=True)\n",
        "submit.to_csv(\"submission_lr.csv\", index=False)"
      ],
      "id": "225ef7d5"
    }
  ],
  "metadata": {
    "colab": {
      "collapsed_sections": [],
      "name": " zindi_football_baseline_public.ipynb",
      "provenance": [],
      "include_colab_link": true
    },
    "kernelspec": {
      "display_name": "Python 3 (ipykernel)",
      "language": "python",
      "name": "python3"
    },
    "language_info": {
      "codemirror_mode": {
        "name": "ipython",
        "version": 3
      },
      "file_extension": ".py",
      "mimetype": "text/x-python",
      "name": "python",
      "nbconvert_exporter": "python",
      "pygments_lexer": "ipython3",
      "version": "3.9.10"
    }
  },
  "nbformat": 4,
  "nbformat_minor": 5
}